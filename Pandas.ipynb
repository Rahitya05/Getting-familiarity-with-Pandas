{
 "cells": [
  {
   "cell_type": "markdown",
   "id": "5d50bb65-822e-467e-9b06-42f7019944be",
   "metadata": {
    "jp-MarkdownHeadingCollapsed": true
   },
   "source": [
    "# GETTING FAMILIARITY WITH PANDAS"
   ]
  },
  {
   "cell_type": "markdown",
   "id": "160cb648-2bc4-4ad9-94d0-c9064e4602db",
   "metadata": {},
   "source": [
    "Pandas is an open-source data manipulation and analysis library for Python. It provides high-performance, easy-to-use data structures and data analysis tools. The two primary data structures in Pandas are Series (for one-dimensional data) and DataFrame (for two-dimensional data)."
   ]
  },
  {
   "cell_type": "markdown",
   "id": "9fe0656a-654d-4193-a07d-e604439153ae",
   "metadata": {},
   "source": [
    "### Key Features of Pandas:\n",
    "\n",
    "#### Data Structures:\n",
    "\n",
    "##### 1. Series: \n",
    "A one-dimensional labeled array that can hold data of any type (integers, strings, floats, etc.).\n",
    "##### 2. DataFrame: \n",
    "A two-dimensional, size-mutable, and potentially heterogeneous tabular data structure with labeled axes (rows and columns). It's similar to a table in a relational database or an Excel spreadsheet.\n",
    "\n",
    "#### Data Handling:\n",
    "\n",
    "##### 1. Loading Data: \n",
    "You can easily load data from different file formats such as CSV, Excel, SQL databases, JSON, etc.\n",
    "##### 2. Data Cleaning: \n",
    "Pandas provides powerful tools to handle missing data, duplicate data, and incorrect formats, making it easier to clean and prepare data for analysis.\n",
    "##### 3. Data Transformation: \n",
    "With Pandas, you can manipulate data by merging, reshaping, slicing, and dicing the DataFrame to fit your needs.\n",
    "##### 4. Data Aggregation: \n",
    "You can perform operations like grouping, summarizing, and aggregating data to gain insights.\n",
    "\n",
    "#### Time Series:\n",
    "Pandas has strong support for working with time series data, including functionality for date-based indexing, resampling, and time-based operations.\n",
    "\n",
    "#### Integration:\n",
    "Pandas integrates well with other data science libraries in Python, such as NumPy for numerical operations and Matplotlib or Seaborn for data visualization."
   ]
  },
  {
   "cell_type": "markdown",
   "id": "6531b63c-544a-40c0-b643-d7d46e3a8c2e",
   "metadata": {},
   "source": [
    "### Installing pandas package"
   ]
  },
  {
   "cell_type": "markdown",
   "id": "b28c3557-e00b-4ada-90f5-616bd15b93ce",
   "metadata": {},
   "source": [
    "To install the Pandas package, you can use Python's package management tools. Pandas is available on the Python Package Index (PyPI), so it can be installed using pip or through a package manager like conda if you're using Anaconda."
   ]
  },
  {
   "cell_type": "code",
   "execution_count": 58,
   "id": "a6a49cdc-0134-42d5-8d98-c8c32e235e5b",
   "metadata": {},
   "outputs": [
    {
     "name": "stdout",
     "output_type": "stream",
     "text": [
      "Requirement already satisfied: pandas in c:\\users\\p.rahitya\\anaconda3\\lib\\site-packages (2.1.4)\n",
      "Requirement already satisfied: numpy<2,>=1.23.2 in c:\\users\\p.rahitya\\anaconda3\\lib\\site-packages (from pandas) (1.26.4)\n",
      "Requirement already satisfied: python-dateutil>=2.8.2 in c:\\users\\p.rahitya\\anaconda3\\lib\\site-packages (from pandas) (2.8.2)\n",
      "Requirement already satisfied: pytz>=2020.1 in c:\\users\\p.rahitya\\anaconda3\\lib\\site-packages (from pandas) (2023.3.post1)\n",
      "Requirement already satisfied: tzdata>=2022.1 in c:\\users\\p.rahitya\\anaconda3\\lib\\site-packages (from pandas) (2023.3)\n",
      "Requirement already satisfied: six>=1.5 in c:\\users\\p.rahitya\\anaconda3\\lib\\site-packages (from python-dateutil>=2.8.2->pandas) (1.16.0)\n",
      "Note: you may need to restart the kernel to use updated packages.\n"
     ]
    }
   ],
   "source": [
    "pip install pandas"
   ]
  },
  {
   "cell_type": "markdown",
   "id": "da5de22f-5161-4df5-9c26-93f488080998",
   "metadata": {},
   "source": [
    "### 1. Understanding Series"
   ]
  },
  {
   "cell_type": "markdown",
   "id": "1a854307-d607-492a-ae31-33fd4c18909d",
   "metadata": {},
   "source": [
    "##### Series:\n",
    "A Pandas Series is a one-dimensional labeled array capable of holding data of any type (integer, string, float, etc.). The labels in a Series are referred to as the index.\n",
    "Think of a Series as a column in an Excel sheet."
   ]
  },
  {
   "cell_type": "code",
   "execution_count": 59,
   "id": "c242aef1-8f5f-4e5c-9c09-369e40cce45d",
   "metadata": {},
   "outputs": [],
   "source": [
    "import pandas"
   ]
  },
  {
   "cell_type": "code",
   "execution_count": 60,
   "id": "b4720ec0-7b86-434b-8ebd-c673e310a041",
   "metadata": {},
   "outputs": [
    {
     "name": "stdout",
     "output_type": "stream",
     "text": [
      "0    10\n",
      "1    20\n",
      "2    30\n",
      "3    40\n",
      "dtype: int64\n"
     ]
    }
   ],
   "source": [
    "#creating Series from a list\n",
    "data = [10, 20, 30, 40]\n",
    "series = pandas.Series(data)\n",
    "print(series)"
   ]
  },
  {
   "cell_type": "code",
   "execution_count": 61,
   "id": "2718c691-a366-4c05-816e-57448ddb8cdd",
   "metadata": {},
   "outputs": [
    {
     "name": "stdout",
     "output_type": "stream",
     "text": [
      "a    10\n",
      "b    20\n",
      "c    30\n",
      "d    40\n",
      "e    50\n",
      "dtype: int64\n"
     ]
    }
   ],
   "source": [
    "#creating Series from a Dictionary\n",
    "data={'a':10,'b':20,'c':30,'d':40,'e':50}\n",
    "series=pandas.Series(data)\n",
    "print(series)"
   ]
  },
  {
   "cell_type": "code",
   "execution_count": 62,
   "id": "cae36a4c-2075-4be6-84a7-ba8e0a833a65",
   "metadata": {},
   "outputs": [
    {
     "name": "stdout",
     "output_type": "stream",
     "text": [
      "a    5\n",
      "b    5\n",
      "c    5\n",
      "d    5\n",
      "dtype: int64\n"
     ]
    }
   ],
   "source": [
    "#creating Series from scalar\n",
    "series=pandas.Series(5,index=['a','b','c','d'])\n",
    "print(series)"
   ]
  },
  {
   "cell_type": "markdown",
   "id": "e0801c31-3f94-4fbd-a9a0-7dc20016083b",
   "metadata": {},
   "source": [
    "### 2. Understanding Dataframes"
   ]
  },
  {
   "cell_type": "markdown",
   "id": "63991bd1-3edd-4613-93d9-c4572d72915b",
   "metadata": {},
   "source": [
    " ##### DataFrame:\n",
    "  A Pandas DataFrame is a two-dimensional labeled data structure with columns of potentially different types. It is similar to a table in a database, an Excel sheet, or a spreadsheet.\n",
    "  Each column in a DataFrame is a Series."
   ]
  },
  {
   "cell_type": "code",
   "execution_count": 63,
   "id": "f1eed4c7-5bf7-4095-8b54-36516a01a4a0",
   "metadata": {},
   "outputs": [
    {
     "name": "stdout",
     "output_type": "stream",
     "text": [
      "   ID     Name\n",
      "0   1    Alice\n",
      "1   2      Bob\n",
      "2   3  Charlie\n"
     ]
    }
   ],
   "source": [
    "#creating Dataframe from a list of lists\n",
    "data = [[1, 'Alice'], [2, 'Bob'], [3, 'Charlie']]\n",
    "df = pandas.DataFrame(data, columns=['ID', 'Name'])\n",
    "print(df)"
   ]
  },
  {
   "cell_type": "code",
   "execution_count": 64,
   "id": "a80047b3-ebac-4076-9b6c-337f3350babe",
   "metadata": {},
   "outputs": [
    {
     "name": "stdout",
     "output_type": "stream",
     "text": [
      "      Name  Age         City\n",
      "0    Alice   25     New York\n",
      "1      Bob   30  Los Angeles\n",
      "2  Charlie   35      Chicago\n"
     ]
    }
   ],
   "source": [
    "#creating Dataframes form dictionary of lists\n",
    "data = {\n",
    "      'Name': ['Alice', 'Bob', 'Charlie'],\n",
    "      'Age': [25, 30, 35],\n",
    "      'City': ['New York', 'Los Angeles', 'Chicago']\n",
    "  }\n",
    "df = pandas.DataFrame(data)\n",
    "print(df)"
   ]
  },
  {
   "cell_type": "code",
   "execution_count": 65,
   "id": "e7247601-7128-413f-a588-abf2d75bf44f",
   "metadata": {},
   "outputs": [
    {
     "name": "stdout",
     "output_type": "stream",
     "text": [
      "     ID     Name\n",
      "row1  1    Alice\n",
      "row2  2      Bob\n",
      "row3  3  Charlie\n"
     ]
    }
   ],
   "source": [
    "#creating Dataframes from dictionary of dictionaries\n",
    "data = {\n",
    "    'row1': {'ID': 1, 'Name': 'Alice'},\n",
    "    'row2': {'ID': 2, 'Name': 'Bob'},\n",
    "    'row3': {'ID': 3, 'Name': 'Charlie'}\n",
    "}\n",
    "df = pandas.DataFrame(data).T\n",
    "print(df)"
   ]
  },
  {
   "cell_type": "code",
   "execution_count": 66,
   "id": "5c10efac-9b65-4aa9-b3c5-2f2f5d4610b2",
   "metadata": {},
   "outputs": [
    {
     "name": "stdout",
     "output_type": "stream",
     "text": [
      "  name   age  branch\n",
      "0    X    19     CSD\n",
      "1    Y    20     CSD\n",
      "2    Z    19     CSD\n"
     ]
    }
   ],
   "source": [
    "#Reading from csv file\n",
    "df=pandas.read_csv(\"data_file.csv\")\n",
    "print(df)"
   ]
  },
  {
   "cell_type": "markdown",
   "id": "8af2198c-8b20-4583-8025-312fa8be8991",
   "metadata": {},
   "source": [
    "# Writing a Program in Python to Handle and Analyze data using Pandas."
   ]
  },
  {
   "cell_type": "markdown",
   "id": "9cdd46a9-d836-434e-bf0e-2429240fa5ca",
   "metadata": {},
   "source": [
    "### Data Handling and Analysis:"
   ]
  },
  {
   "cell_type": "markdown",
   "id": "bc226367-0618-4e7d-9c03-38c96c520e8a",
   "metadata": {},
   "source": [
    "Pandas provides a powerful and flexible set of tools for data handling and analyzing. Its core data structures (Series and DataFrame) and a comprehensive set of functions allow users to handle data efficiently. Understanding these concepts and techniques will enable effective data wrangling, cleaning, and analysis in various data science and data analysis tasks."
   ]
  },
  {
   "cell_type": "markdown",
   "id": "d1d2da10-d26e-4b23-a03c-2a941f2deb39",
   "metadata": {},
   "source": [
    "### Key Features:\n",
    "\n",
    "##### 1. Data Structures: \n",
    "Pandas provides two primary data structures:\n",
    "##### Series: \n",
    "A one-dimensional labeled array of values."
   ]
  },
  {
   "cell_type": "markdown",
   "id": "515d0982-ffd2-4ecc-934c-c84e40b51b97",
   "metadata": {},
   "source": [
    "##### DataFrame: \n",
    "A two-dimensional labeled data structure with columns of potentially different types."
   ]
  },
  {
   "cell_type": "markdown",
   "id": "07f00095-8208-454c-a7a0-adbd065686b3",
   "metadata": {},
   "source": [
    "##### 2. Data Operations: \n",
    "Pandas supports various data operations, including:\n",
    "##### Filtering: \n",
    "Selecting specific rows or columns based on conditions.\n",
    "##### Sorting: \n",
    "Sorting data by one or more columns.\n",
    "##### Grouping: \n",
    "Grouping data by one or more columns and performing aggregation operations.\n",
    "##### Merging: \n",
    "Combining data from multiple DataFrames.\n",
    "##### Reshaping: \n",
    "Transforming data from wide to long format or vice versa."
   ]
  },
  {
   "cell_type": "markdown",
   "id": "6eb96575-be66-4148-92f3-73f63c8e05af",
   "metadata": {},
   "source": [
    "##### 3. Data Input/Output: \n",
    "Pandas supports reading and writing data from various file formats, including:\n",
    "##### CSV: \n",
    "Comma-separated values.\n",
    "##### Excel: \n",
    "Microsoft Excel files.\n",
    "##### JSON: \n",
    "JavaScript Object Notation.\n",
    "##### SQL: \n",
    "Structured Query Language databases."
   ]
  },
  {
   "cell_type": "markdown",
   "id": "37cc6819-ca3b-4f7b-a4b2-30806e49e50f",
   "metadata": {},
   "source": [
    "let us consider the following program how to handle and analysis the data using pandas on students marks dataset."
   ]
  },
  {
   "cell_type": "markdown",
   "id": "260807e2-f4cc-41ab-aaf3-fc18afe845da",
   "metadata": {},
   "source": [
    "This program will demonstrate data handling using Pandas, focusing on reading data from a file, handling missing data, transforming data, and performing data analysis, including summary statistics, grouping, and advanced data manipulation techniques like merging, joining, and concatenating DataFrames.\n"
   ]
  },
  {
   "cell_type": "code",
   "execution_count": 100,
   "id": "ca5bceed-ffff-413a-b4ea-e183383409bb",
   "metadata": {},
   "outputs": [],
   "source": [
    "#importing pandas package as pd for our convience\n",
    "import pandas as pd"
   ]
  },
  {
   "cell_type": "code",
   "execution_count": 104,
   "id": "65bcb89d-3445-4468-a2e1-676a3a70dfd0",
   "metadata": {},
   "outputs": [],
   "source": [
    "# Sample dataset creating \n",
    "data = {\n",
    "    'Roll No': [101, 102, 103, 104, 105, 106, 107, 108, 109, 110],\n",
    "    'Name': ['Alice', 'Bob', 'Charlie', 'David', 'Edward', 'Frank', 'Grace', 'Hannah', 'Ivy', 'Jack'],\n",
    "    'Math': [85, 76, 89, None, 91, 78, 88, 95, 70, 84],\n",
    "    'Science': [92, 85, 94, 70, 85, None, 90, 98, 75, 88],\n",
    "    'English': [78, 80, 92, 72, 87, 84, None, 99, 73, 85],\n",
    "    'History': [90, 88, 95, 68, 93, 79, 92, 100, 78, 87],\n",
    "    'Art': [89, 92, 91, 74, 90, 85, 87, 97, 72, 90]\n",
    "}"
   ]
  },
  {
   "cell_type": "code",
   "execution_count": 105,
   "id": "1f3fe3cd-4e86-4183-af05-9e03bf6714e1",
   "metadata": {},
   "outputs": [],
   "source": [
    "# Create a DataFrame from the data\n",
    "df = pd.DataFrame(data)"
   ]
  },
  {
   "cell_type": "code",
   "execution_count": 106,
   "id": "7dea0440-c4f9-4c49-94b5-f5ec72521a59",
   "metadata": {},
   "outputs": [
    {
     "name": "stdout",
     "output_type": "stream",
     "text": [
      "Original DataFrame:\n",
      "   Roll No     Name  Math  Science  English  History  Art\n",
      "0      101    Alice  85.0     92.0     78.0       90   89\n",
      "1      102      Bob  76.0     85.0     80.0       88   92\n",
      "2      103  Charlie  89.0     94.0     92.0       95   91\n",
      "3      104    David   NaN     70.0     72.0       68   74\n",
      "4      105   Edward  91.0     85.0     87.0       93   90\n",
      "5      106    Frank  78.0      NaN     84.0       79   85\n",
      "6      107    Grace  88.0     90.0      NaN       92   87\n",
      "7      108   Hannah  95.0     98.0     99.0      100   97\n",
      "8      109      Ivy  70.0     75.0     73.0       78   72\n",
      "9      110     Jack  84.0     88.0     85.0       87   90\n"
     ]
    }
   ],
   "source": [
    "print(\"Original DataFrame:\")\n",
    "print(df)"
   ]
  },
  {
   "cell_type": "code",
   "execution_count": null,
   "id": "86fc4bf2-6073-4c56-b073-3050d666c0b5",
   "metadata": {},
   "outputs": [],
   "source": []
  },
  {
   "cell_type": "markdown",
   "id": "997cd363-39d7-47d2-9f54-f68185999b68",
   "metadata": {},
   "source": [
    "#### Data Handling"
   ]
  },
  {
   "cell_type": "markdown",
   "id": "2d1e13d8-0f7b-4a2f-99cc-f62b3a7efa51",
   "metadata": {},
   "source": [
    "##### 1. Handling Missing Data"
   ]
  },
  {
   "cell_type": "code",
   "execution_count": 107,
   "id": "ece65a18-7967-4824-a590-9d40e8bf9e54",
   "metadata": {},
   "outputs": [
    {
     "name": "stdout",
     "output_type": "stream",
     "text": [
      "\n",
      "Missing Data Information:\n",
      "Roll No    0\n",
      "Name       0\n",
      "Math       1\n",
      "Science    1\n",
      "English    1\n",
      "History    0\n",
      "Art        0\n",
      "dtype: int64\n"
     ]
    }
   ],
   "source": [
    "# a. Identifying Missing Data\n",
    "print(\"\\nMissing Data Information:\")\n",
    "print(df.isnull().sum())"
   ]
  },
  {
   "cell_type": "code",
   "execution_count": 108,
   "id": "b43bd8f6-41cf-41a1-adb2-c26ac35c2499",
   "metadata": {},
   "outputs": [
    {
     "name": "stdout",
     "output_type": "stream",
     "text": [
      "0    0\n",
      "1    1\n",
      "2    2\n",
      "3    3\n",
      "4    4\n",
      "5    5\n",
      "6    6\n",
      "7    7\n",
      "8    8\n",
      "9    9\n",
      "Name: Name, dtype: int64\n"
     ]
    }
   ],
   "source": [
    "#converting string column to numeric column for better computation\n",
    "df['Name']=pd.factorize(df['Name'])[0]\n",
    "print(df['Name'])"
   ]
  },
  {
   "cell_type": "code",
   "execution_count": 109,
   "id": "16295372-d87d-4162-8313-fda1e27bb69d",
   "metadata": {},
   "outputs": [
    {
     "name": "stdout",
     "output_type": "stream",
     "text": [
      "\n",
      "DataFrame After Filling Missing Data with Mean:\n",
      "   Roll No  Name  Math    Science    English  History  Art\n",
      "0      101     0  85.0  92.000000  78.000000       90   89\n",
      "1      102     1  76.0  85.000000  80.000000       88   92\n",
      "2      103     2  89.0  94.000000  92.000000       95   91\n",
      "3      104     3  84.0  70.000000  72.000000       68   74\n",
      "4      105     4  91.0  85.000000  87.000000       93   90\n",
      "5      106     5  78.0  86.333333  84.000000       79   85\n",
      "6      107     6  88.0  90.000000  83.333333       92   87\n",
      "7      108     7  95.0  98.000000  99.000000      100   97\n",
      "8      109     8  70.0  75.000000  73.000000       78   72\n",
      "9      110     9  84.0  88.000000  85.000000       87   90\n"
     ]
    }
   ],
   "source": [
    "# b. Filling Missing Values\n",
    "# Fill missing values in numeric columns with the mean of the respective column\n",
    "df.fillna(df.mean(), inplace=True)\n",
    "print(\"\\nDataFrame After Filling Missing Data with Mean:\")\n",
    "print(df)"
   ]
  },
  {
   "cell_type": "markdown",
   "id": "83ded15a-6e33-497e-9fb0-ba02413272d8",
   "metadata": {},
   "source": [
    "##### 2. Removing Duplicates"
   ]
  },
  {
   "cell_type": "code",
   "execution_count": 110,
   "id": "41c965b3-6bb6-4135-b46a-05645b3e864a",
   "metadata": {},
   "outputs": [
    {
     "name": "stdout",
     "output_type": "stream",
     "text": [
      "\n",
      "DataFrame After Removing Duplicates:\n",
      "   Roll No  Name  Math    Science    English  History  Art\n",
      "0      101     0  85.0  92.000000  78.000000       90   89\n",
      "1      102     1  76.0  85.000000  80.000000       88   92\n",
      "2      103     2  89.0  94.000000  92.000000       95   91\n",
      "3      104     3  84.0  70.000000  72.000000       68   74\n",
      "4      105     4  91.0  85.000000  87.000000       93   90\n",
      "5      106     5  78.0  86.333333  84.000000       79   85\n",
      "6      107     6  88.0  90.000000  83.333333       92   87\n",
      "7      108     7  95.0  98.000000  99.000000      100   97\n",
      "8      109     8  70.0  75.000000  73.000000       78   72\n",
      "9      110     9  84.0  88.000000  85.000000       87   90\n"
     ]
    }
   ],
   "source": [
    "# (In this example, there are no duplicates, but the function is shown for demonstration)\n",
    "df.drop_duplicates(inplace=True)\n",
    "\n",
    "print(\"\\nDataFrame After Removing Duplicates:\")\n",
    "print(df)"
   ]
  },
  {
   "cell_type": "markdown",
   "id": "d43380b4-2431-4db7-81e6-91cc10144bd0",
   "metadata": {},
   "source": [
    "##### 3. Data Type Conversions"
   ]
  },
  {
   "cell_type": "code",
   "execution_count": 113,
   "id": "f1461a37-40d6-45ce-85ca-97246afe5290",
   "metadata": {},
   "outputs": [
    {
     "name": "stdout",
     "output_type": "stream",
     "text": [
      "\n",
      "DataFrame After Data Type Conversions:\n",
      "Roll No    int64\n",
      "Name       int64\n",
      "Math       int32\n",
      "Science    int32\n",
      "English    int32\n",
      "History    int64\n",
      "Art        int64\n",
      "dtype: object\n",
      "   Roll No  Name  Math  Science  English  History  Art\n",
      "0      101     0    85       92       78       90   89\n",
      "1      102     1    76       85       80       88   92\n",
      "2      103     2    89       94       92       95   91\n",
      "3      104     3    84       70       72       68   74\n",
      "4      105     4    91       85       87       93   90\n",
      "5      106     5    78       86       84       79   85\n",
      "6      107     6    88       90       83       92   87\n",
      "7      108     7    95       98       99      100   97\n",
      "8      109     8    70       75       73       78   72\n",
      "9      110     9    84       88       85       87   90\n"
     ]
    }
   ],
   "source": [
    "# Convert 'Math' scores to integers (if they were floats after filling NaN)\n",
    "df['Math'] = df['Math'].astype(int)\n",
    "df['Science'] = df['Science'].astype(int)\n",
    "df['English'] = df['English'].astype(int)\n",
    "\n",
    "print(\"\\nDataFrame After Data Type Conversions:\")\n",
    "print(df.dtypes)\n",
    "print(df)"
   ]
  },
  {
   "cell_type": "markdown",
   "id": "dfc74936-5693-446c-b122-515d99e284b3",
   "metadata": {},
   "source": [
    "##### 4. Data Transformation"
   ]
  },
  {
   "cell_type": "code",
   "execution_count": 114,
   "id": "b4c159e3-6e13-4d67-83ef-ed99678c2b98",
   "metadata": {},
   "outputs": [
    {
     "name": "stdout",
     "output_type": "stream",
     "text": [
      "\n",
      "DataFrame After Adding 'Total Marks' Column:\n",
      "   Roll No  Name  Math  Science  English  History  Art  Total Marks\n",
      "0      101     0    85       92       78       90   89          434\n",
      "1      102     1    76       85       80       88   92          421\n",
      "2      103     2    89       94       92       95   91          461\n",
      "3      104     3    84       70       72       68   74          368\n",
      "4      105     4    91       85       87       93   90          446\n",
      "5      106     5    78       86       84       79   85          412\n",
      "6      107     6    88       90       83       92   87          440\n",
      "7      108     7    95       98       99      100   97          489\n",
      "8      109     8    70       75       73       78   72          368\n",
      "9      110     9    84       88       85       87   90          434\n"
     ]
    }
   ],
   "source": [
    "# Add a new column 'Total Marks' as the sum of marks across subjects\n",
    "df['Total Marks'] = df[['Math', 'Science', 'English', 'History', 'Art']].sum(axis=1)\n",
    "\n",
    "print(\"\\nDataFrame After Adding 'Total Marks' Column:\")\n",
    "print(df)"
   ]
  },
  {
   "cell_type": "code",
   "execution_count": 115,
   "id": "613a4af7-ef85-4dcc-a235-0961d7c08d99",
   "metadata": {},
   "outputs": [
    {
     "name": "stdout",
     "output_type": "stream",
     "text": [
      "\n",
      "DataFrame After Adding 'Average Marks' Column:\n",
      "   Roll No  Name  Math  Science  English  History  Art  Total Marks  \\\n",
      "0      101     0    85       92       78       90   89          434   \n",
      "1      102     1    76       85       80       88   92          421   \n",
      "2      103     2    89       94       92       95   91          461   \n",
      "3      104     3    84       70       72       68   74          368   \n",
      "4      105     4    91       85       87       93   90          446   \n",
      "5      106     5    78       86       84       79   85          412   \n",
      "6      107     6    88       90       83       92   87          440   \n",
      "7      108     7    95       98       99      100   97          489   \n",
      "8      109     8    70       75       73       78   72          368   \n",
      "9      110     9    84       88       85       87   90          434   \n",
      "\n",
      "   Average Marks  \n",
      "0           86.8  \n",
      "1           84.2  \n",
      "2           92.2  \n",
      "3           73.6  \n",
      "4           89.2  \n",
      "5           82.4  \n",
      "6           88.0  \n",
      "7           97.8  \n",
      "8           73.6  \n",
      "9           86.8  \n"
     ]
    }
   ],
   "source": [
    "# Add a new column 'Average Marks' as the mean of marks across subjects\n",
    "df['Average Marks'] = df[['Math', 'Science', 'English', 'History', 'Art']].mean(axis=1)\n",
    "\n",
    "print(\"\\nDataFrame After Adding 'Average Marks' Column:\")\n",
    "print(df)"
   ]
  },
  {
   "cell_type": "markdown",
   "id": "27f8b31b-97c2-4e0f-b4f1-7675c5b71494",
   "metadata": {},
   "source": [
    "#### Data Analysis"
   ]
  },
  {
   "cell_type": "code",
   "execution_count": 116,
   "id": "efa9610f-75fc-4634-91bf-b4e695c09dc5",
   "metadata": {},
   "outputs": [
    {
     "name": "stdout",
     "output_type": "stream",
     "text": [
      "\n",
      "Summary Statistics for the DataFrame:\n",
      "         Roll No      Name       Math    Science    English     History  \\\n",
      "count   10.00000  10.00000  10.000000  10.000000  10.000000   10.000000   \n",
      "mean   105.50000   4.50000  84.000000  86.300000  83.300000   87.000000   \n",
      "std      3.02765   3.02765   7.512952   8.446564   8.246885    9.486833   \n",
      "min    101.00000   0.00000  70.000000  70.000000  72.000000   68.000000   \n",
      "25%    103.25000   2.25000  79.500000  85.000000  78.500000   81.000000   \n",
      "50%    105.50000   4.50000  84.500000  87.000000  83.500000   89.000000   \n",
      "75%    107.75000   6.75000  88.750000  91.500000  86.500000   92.750000   \n",
      "max    110.00000   9.00000  95.000000  98.000000  99.000000  100.000000   \n",
      "\n",
      "             Art  Total Marks  Average Marks  \n",
      "count  10.000000    10.000000      10.000000  \n",
      "mean   86.700000   427.300000      85.460000  \n",
      "std     7.888811    37.786094       7.557219  \n",
      "min    72.000000   368.000000      73.600000  \n",
      "25%    85.500000   414.250000      82.850000  \n",
      "50%    89.500000   434.000000      86.800000  \n",
      "75%    90.750000   444.500000      88.900000  \n",
      "max    97.000000   489.000000      97.800000  \n"
     ]
    }
   ],
   "source": [
    "# 1. Generating Summary Statistics\n",
    "print(\"\\nSummary Statistics for the DataFrame:\")\n",
    "print(df.describe())"
   ]
  },
  {
   "cell_type": "code",
   "execution_count": 117,
   "id": "d805bffd-42ca-4710-9c65-2fce0e51f6ac",
   "metadata": {},
   "outputs": [],
   "source": [
    "# 2. Grouping Data and Applying Aggregate Functions\n",
    "# Group by 'Average Marks' category (e.g., High, Medium, Low based on thresholds)\n",
    "def categorize_avg_marks(avg_marks):\n",
    "    if avg_marks >= 90:\n",
    "        return 'High'\n",
    "    elif avg_marks >= 75:\n",
    "        return 'Medium'\n",
    "    else:\n",
    "        return 'Low'"
   ]
  },
  {
   "cell_type": "code",
   "execution_count": 122,
   "id": "960abc4d-7b08-4b4d-924a-035fc78b3998",
   "metadata": {},
   "outputs": [
    {
     "name": "stdout",
     "output_type": "stream",
     "text": [
      "   Roll No  Name  Math  Science  English  History  Art  Total Marks  \\\n",
      "0      101     0    85       92       78       90   89          434   \n",
      "1      102     1    76       85       80       88   92          421   \n",
      "2      103     2    89       94       92       95   91          461   \n",
      "3      104     3    84       70       72       68   74          368   \n",
      "4      105     4    91       85       87       93   90          446   \n",
      "5      106     5    78       86       84       79   85          412   \n",
      "6      107     6    88       90       83       92   87          440   \n",
      "7      108     7    95       98       99      100   97          489   \n",
      "8      109     8    70       75       73       78   72          368   \n",
      "9      110     9    84       88       85       87   90          434   \n",
      "\n",
      "   Average Marks Performance Category  \n",
      "0           86.8               Medium  \n",
      "1           84.2               Medium  \n",
      "2           92.2                 High  \n",
      "3           73.6                  Low  \n",
      "4           89.2               Medium  \n",
      "5           82.4               Medium  \n",
      "6           88.0               Medium  \n",
      "7           97.8                 High  \n",
      "8           73.6                  Low  \n",
      "9           86.8               Medium  \n"
     ]
    }
   ],
   "source": [
    "df['Performance Category'] = df['Average Marks'].apply(categorize_avg_marks)\n",
    "print(df)"
   ]
  },
  {
   "cell_type": "markdown",
   "id": "d7bc1741-e3c2-4013-bdad-12b049016fad",
   "metadata": {},
   "source": [
    "##### 3. Advanced Data Manipulation"
   ]
  },
  {
   "cell_type": "code",
   "execution_count": 132,
   "id": "72f760c7-20fa-46b4-98a5-e429642a17d8",
   "metadata": {},
   "outputs": [
    {
     "name": "stdout",
     "output_type": "stream",
     "text": [
      "DataFrame Sorted by Total Marks (Descending):\n",
      "   Roll No  Name  Math  Science  English  History  Art  Total Marks  \\\n",
      "7      108     7    95       98       99      100   97          489   \n",
      "2      103     2    89       94       92       95   91          461   \n",
      "4      105     4    91       85       87       93   90          446   \n",
      "6      107     6    88       90       83       92   87          440   \n",
      "0      101     0    85       92       78       90   89          434   \n",
      "9      110     9    84       88       85       87   90          434   \n",
      "1      102     1    76       85       80       88   92          421   \n",
      "5      106     5    78       86       84       79   85          412   \n",
      "3      104     3    84       70       72       68   74          368   \n",
      "8      109     8    70       75       73       78   72          368   \n",
      "\n",
      "   Average Marks Performance Category  \n",
      "7           97.8                 High  \n",
      "2           92.2                 High  \n",
      "4           89.2               Medium  \n",
      "6           88.0               Medium  \n",
      "0           86.8               Medium  \n",
      "9           86.8               Medium  \n",
      "1           84.2               Medium  \n",
      "5           82.4               Medium  \n",
      "3           73.6                  Low  \n",
      "8           73.6                  Low  \n"
     ]
    }
   ],
   "source": [
    "# Sort the DataFrame based on 'Total Marks' in descending order\n",
    "sorted_df = df.sort_values(by='Total Marks', ascending=False)\n",
    "\n",
    "print(\"DataFrame Sorted by Total Marks (Descending):\")\n",
    "print(sorted_df)\n"
   ]
  },
  {
   "cell_type": "code",
   "execution_count": 136,
   "id": "8bb7e702-11fd-44df-80d6-61f769a61333",
   "metadata": {},
   "outputs": [
    {
     "name": "stdout",
     "output_type": "stream",
     "text": [
      "   Roll No  Name  Math  Science  English  History  Art  Total Marks  \\\n",
      "7      108     7    95       98       99      100   97          489   \n",
      "2      103     2    89       94       92       95   91          461   \n",
      "4      105     4    91       85       87       93   90          446   \n",
      "\n",
      "   Average Marks Performance Category  \n",
      "7           97.8                 High  \n",
      "2           92.2                 High  \n",
      "4           89.2               Medium  \n"
     ]
    }
   ],
   "source": [
    "#printing top three students scored highest marks\n",
    "print(sorted_df.head(3))"
   ]
  },
  {
   "cell_type": "code",
   "execution_count": 133,
   "id": "0607fcbf-a285-4fda-a12c-ae975992cd35",
   "metadata": {},
   "outputs": [
    {
     "name": "stdout",
     "output_type": "stream",
     "text": [
      "   Roll No  Parent Name  Contact\n",
      "0      101    Mr. Smith  123-456\n",
      "1      102     Mrs. Doe  789-012\n",
      "2      103  Mr. Johnson  345-678\n",
      "3      110    Ms. White  901-234\n"
     ]
    }
   ],
   "source": [
    "# Suppose you have another DataFrame with additional student information\n",
    "extra_data = {\n",
    "    'Roll No': [101, 102, 103, 110],\n",
    "    'Parent Name': ['Mr. Smith', 'Mrs. Doe', 'Mr. Johnson', 'Ms. White'],\n",
    "    'Contact': ['123-456', '789-012', '345-678', '901-234']\n",
    "}\n",
    "extra_df = pd.DataFrame(extra_data)\n",
    "print(extra_df)"
   ]
  },
  {
   "cell_type": "code",
   "execution_count": 134,
   "id": "5c1cc088-f428-4dda-a2bb-2a69d5005f9d",
   "metadata": {},
   "outputs": [
    {
     "name": "stdout",
     "output_type": "stream",
     "text": [
      "\n",
      "Merged DataFrame with Additional Student Information:\n",
      "   Roll No  Name  Math  Science  English  History  Art  Total Marks  \\\n",
      "0      101     0    85       92       78       90   89          434   \n",
      "1      102     1    76       85       80       88   92          421   \n",
      "2      103     2    89       94       92       95   91          461   \n",
      "3      104     3    84       70       72       68   74          368   \n",
      "4      105     4    91       85       87       93   90          446   \n",
      "5      106     5    78       86       84       79   85          412   \n",
      "6      107     6    88       90       83       92   87          440   \n",
      "7      108     7    95       98       99      100   97          489   \n",
      "8      109     8    70       75       73       78   72          368   \n",
      "9      110     9    84       88       85       87   90          434   \n",
      "\n",
      "   Average Marks Performance Category  Parent Name  Contact  \n",
      "0           86.8               Medium    Mr. Smith  123-456  \n",
      "1           84.2               Medium     Mrs. Doe  789-012  \n",
      "2           92.2                 High  Mr. Johnson  345-678  \n",
      "3           73.6                  Low          NaN      NaN  \n",
      "4           89.2               Medium          NaN      NaN  \n",
      "5           82.4               Medium          NaN      NaN  \n",
      "6           88.0               Medium          NaN      NaN  \n",
      "7           97.8                 High          NaN      NaN  \n",
      "8           73.6                  Low          NaN      NaN  \n",
      "9           86.8               Medium    Ms. White  901-234  \n"
     ]
    }
   ],
   "source": [
    "#  Merging DataFrames on 'Roll No'\n",
    "merged_df = pd.merge(df, extra_df, on='Roll No', how='left')\n",
    "\n",
    "print(\"\\nMerged DataFrame with Additional Student Information:\")\n",
    "print(merged_df)"
   ]
  },
  {
   "cell_type": "code",
   "execution_count": 135,
   "id": "79123e00-9db0-4f2d-9a3a-0aab048da625",
   "metadata": {},
   "outputs": [],
   "source": [
    "# Joining DataFrames (similar to SQL join)\n",
    "# Another DataFrame simulating exam scores from a different term\n",
    "term2_data = {\n",
    "    'Roll No': [101, 102, 103, 104, 105, 106, 107, 108, 109, 110],\n",
    "    'Math Term 2': [88, 79, 90, 72, 92, 80, 89, 97, 73, 85],\n",
    "    'Science Term 2': [91, 87, 95, 74, 86, 81, 91, 99, 77, 89]\n",
    "}\n",
    "term2_df = pd.DataFrame(term2_data)"
   ]
  },
  {
   "cell_type": "code",
   "execution_count": 131,
   "id": "82994953-9a4b-4368-8a3b-4755a3c73929",
   "metadata": {},
   "outputs": [
    {
     "name": "stdout",
     "output_type": "stream",
     "text": [
      "\n",
      "Joined DataFrame with Term 2 Scores:\n",
      "         Name  Math  Science  English  History  Art  Total Marks  \\\n",
      "Roll No                                                            \n",
      "101         0    85       92       78       90   89          434   \n",
      "102         1    76       85       80       88   92          421   \n",
      "103         2    89       94       92       95   91          461   \n",
      "104         3    84       70       72       68   74          368   \n",
      "105         4    91       85       87       93   90          446   \n",
      "106         5    78       86       84       79   85          412   \n",
      "107         6    88       90       83       92   87          440   \n",
      "108         7    95       98       99      100   97          489   \n",
      "109         8    70       75       73       78   72          368   \n",
      "110         9    84       88       85       87   90          434   \n",
      "\n",
      "         Average Marks Performance Category  Math Term 2  Science Term 2  \n",
      "Roll No                                                                   \n",
      "101               86.8               Medium           88              91  \n",
      "102               84.2               Medium           79              87  \n",
      "103               92.2                 High           90              95  \n",
      "104               73.6                  Low           72              74  \n",
      "105               89.2               Medium           92              86  \n",
      "106               82.4               Medium           80              81  \n",
      "107               88.0               Medium           89              91  \n",
      "108               97.8                 High           97              99  \n",
      "109               73.6                  Low           73              77  \n",
      "110               86.8               Medium           85              89  \n"
     ]
    }
   ],
   "source": [
    "# Join the term2_df with the original df based on 'Roll No'\n",
    "joined_df = df.set_index('Roll No').join(term2_df.set_index('Roll No'), how='left')\n",
    "\n",
    "print(\"\\nJoined DataFrame with Term 2 Scores:\")\n",
    "print(joined_df)"
   ]
  },
  {
   "cell_type": "markdown",
   "id": "a5afb007-3749-4248-8d45-37e523c5f12a",
   "metadata": {},
   "source": [
    "### Conclusion\n",
    "\n",
    "The use of Pandas in this program demonstrates several key advantages that make it invaluable for data science professionals, particularly in the areas of data handling and analysis.\n",
    "\n",
    "#### Advantages of Pandas Over Traditional Python Data Structures:\n",
    "\n",
    "1. **Efficient Data Handling**:\n",
    "   - **DataFrames and Series**: Pandas provides two primary data structures, DataFrames and Series, which are specifically designed for handling and analyzing structured data. Unlike traditional Python lists or dictionaries, DataFrames allow for easy manipulation of tabular data, including operations on rows and columns.\n",
    "   - **Vectorized Operations**: Pandas supports vectorized operations, which means that operations can be performed on entire columns or rows at once, significantly speeding up computations compared to iterating through data manually using traditional loops.\n",
    "\n",
    "2. **Data Cleaning and Preprocessing**:\n",
    "   - **Missing Data**: Pandas provides convenient methods for handling missing data, such as `fillna()` to fill missing values and `dropna()` to remove them. These methods streamline the process of preparing data for analysis.\n",
    "   - **Duplicates and Data Type Conversion**: The ability to easily identify and remove duplicates with `drop_duplicates()` and convert data types with `astype()` simplifies data preprocessing tasks that would otherwise require manual handling.\n",
    "\n",
    "3. **Data Transformation and Aggregation**:\n",
    "   - **Aggregation Functions**: Pandas includes powerful aggregation functions like `groupby()` and `agg()` that facilitate the summarization of data. For example, you can group data by categories and calculate mean values, which is essential for data analysis and reporting.\n",
    "   - **Adding and Modifying Columns**: Adding new columns or modifying existing ones based on calculations (e.g., calculating total and average marks) is straightforward with Pandas, enabling quick and flexible data transformations.\n",
    "\n",
    "4. **Advanced Data Manipulation**:\n",
    "   - **Merging and Joining**: Pandas offers functionalities like `merge()`, `concat()`, and `join()` to combine multiple DataFrames based on common columns or indices. This is crucial for integrating data from different sources.\n",
    "   - **Handling Different Data Formats**: Pandas can read and write data in various formats such as CSV, Excel, and SQL databases, making it versatile for different data sources.\n",
    "\n",
    "#### Real-World Examples Where Pandas Is Essential:\n",
    "\n",
    "1. **Data Cleaning**:\n",
    "   - **Finance**: In financial data analysis, Pandas is used to clean and preprocess large datasets, such as transaction records, by handling missing values, filtering out outliers, and converting data types for accurate analysis.\n",
    "   - **Healthcare**: Pandas helps in managing patient records, where missing data might need to be imputed or cleaned, and data needs to be aggregated for reporting and analysis.\n",
    "\n",
    "2. **Exploratory Data Analysis (EDA)**:\n",
    "   - **Marketing**: In marketing analytics, Pandas is used to perform EDA by summarizing data, calculating key metrics, and visualizing trends to understand customer behavior and campaign performance.\n",
    "   - **Scientific Research**: Pandas is widely used in scientific research for analyzing experimental data, performing statistical analysis, and preparing data for visualization.\n",
    "\n",
    "3. **Data Integration**:\n",
    "   - **E-commerce**: For e-commerce platforms, Pandas can merge customer data with transaction history from different sources to create comprehensive customer profiles and analyze purchasing patterns.\n",
    "   - **Education**: In educational institutions, Pandas can combine data from various assessments and demographics to analyze student performance and outcomes.\n",
    "\n",
    "Overall, Pandas offers a robust and flexible framework for handling, analyzing, and visualizing data efficiently, making it a cornerstone tool for data science professionals."
   ]
  },
  {
   "cell_type": "code",
   "execution_count": null,
   "id": "26429449-c54c-48f5-9445-adbe3ef6ec5d",
   "metadata": {},
   "outputs": [],
   "source": []
  }
 ],
 "metadata": {
  "kernelspec": {
   "display_name": "Python 3 (ipykernel)",
   "language": "python",
   "name": "python3"
  },
  "language_info": {
   "codemirror_mode": {
    "name": "ipython",
    "version": 3
   },
   "file_extension": ".py",
   "mimetype": "text/x-python",
   "name": "python",
   "nbconvert_exporter": "python",
   "pygments_lexer": "ipython3",
   "version": "3.11.7"
  }
 },
 "nbformat": 4,
 "nbformat_minor": 5
}
